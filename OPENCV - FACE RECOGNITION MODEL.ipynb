{
 "cells": [
  {
   "cell_type": "markdown",
   "id": "3ea8dc27-73ec-4ff9-8ee5-33434df67234",
   "metadata": {},
   "source": [
    "## Install Modules"
   ]
  },
  {
   "cell_type": "code",
   "execution_count": 1,
   "id": "f85c4b3f-789f-4a31-9199-7e6fce51c147",
   "metadata": {},
   "outputs": [],
   "source": [
    "# visual c++, cmake - install in local machine\n",
    "# pip install cmake\n",
    "# pip install dlib-19.24.99-cp312-cp312-win_amd64.whl\n",
    "# pip install face_recognition"
   ]
  },
  {
   "cell_type": "markdown",
   "id": "fd2e453d-2885-4bf2-b0fc-792f528fa0e8",
   "metadata": {},
   "source": [
    "## Import Modules"
   ]
  },
  {
   "cell_type": "code",
   "execution_count": 2,
   "id": "6e7e51d9-9ba2-475a-8020-3b35be18aa19",
   "metadata": {},
   "outputs": [],
   "source": [
    "import os\n",
    "import cv2\n",
    "import numpy as np\n",
    "from PIL import Image\n",
    "import matplotlib.pyplot as plt\n",
    "import face_recognition\n",
    "from scipy.spatial import distance\n",
    "\n",
    "import warnings\n",
    "warnings.filterwarnings('ignore')"
   ]
  },
  {
   "cell_type": "markdown",
   "id": "ad371f6e-b67f-403b-afd8-0467316a5652",
   "metadata": {},
   "source": [
    "## Highlight Facial Points in the Image"
   ]
  },
  {
   "cell_type": "code",
   "execution_count": 7,
   "id": "77e2c90c-cf28-4a0d-9d6d-569c45b5fc54",
   "metadata": {},
   "outputs": [],
   "source": [
    "def highlight_facial_points(image_path):\n",
    "    # load the image\n",
    "    image_bgr = cv2.imread(image_path)\n",
    "    # convert from bgr to rgb\n",
    "    image_rgb = cv2.cvtColor(image_bgr, cv2.COLOR_BGR2RGB)\n",
    "\n",
    "    # detect faces in the image\n",
    "    face_locations = face_recognition.face_locations(image_rgb, model='cnn')\n",
    "\n",
    "    for face_location in face_locations:\n",
    "        # get facial landmarks\n",
    "        landmarks = face_recognition.face_landmarks(image_rgb, [face_location])[0]\n",
    "\n",
    "        # Iterate over the facial landmarks and draw them on the image\n",
    "        for landmark_type, landmark_points in landmarks.items():\n",
    "            for (x, y) in landmark_points:\n",
    "                cv2.circle(image_rgb, (x, y), 3, (0, 255, 0), -1)\n",
    "\n",
    "    # plot the image\n",
    "    plt.figure(figsize=(6, 6))\n",
    "    plt.imshow(image_rgb)\n",
    "    plt.axis('off')\n",
    "    plt.show()"
   ]
  },
  {
   "cell_type": "markdown",
   "id": "dc9cceb4-19f8-4232-8360-ad7caf9d71f4",
   "metadata": {},
   "source": [
    "<img src='facial_landmarks.png'>"
   ]
  },
  {
   "cell_type": "code",
   "execution_count": 9,
   "id": "5e6036a9-d576-4573-a370-5b89e6243baf",
   "metadata": {},
   "outputs": [],
   "source": [
    "# calculate eye aspect ratio\n",
    "def eye_aspect_ratio(eye):\n",
    "    A = distance.euclidean(eye[1], eye[5])\n",
    "    B = distance.euclidean(eye[2], eye[4])\n",
    "    C = distance.euclidean(eye[0], eye[3])\n",
    "    ear = (A+B) / (2.0 * C)\n",
    "    return ear\n",
    "\n",
    "# calculate mount aspect ratio\n",
    "def mouth_aspect_ratio(mouth):\n",
    "    A = distance.euclidean(mouth[2], mouth[10])\n",
    "    B = distance.euclidean(mouth[4], mouth[8])\n",
    "    C = distance.euclidean(mouth[0], mouth[6])\n",
    "    mar = (A+B) / (2.0 * C)\n",
    "    return mar"
   ]
  },
  {
   "cell_type": "code",
   "execution_count": 10,
   "id": "ac9c2529-6831-40b9-94dd-cfcdbb289bb5",
   "metadata": {},
   "outputs": [],
   "source": [
    "def process_image(frame):\n",
    "    # define thresholds\n",
    "    EYE_AR_THRESH = 0.25\n",
    "    MOUTH_AR_THRESH = 0.6\n",
    "\n",
    "    if frame is None:\n",
    "        raise ValueError('Image is not found or unable to open')\n",
    "\n",
    "    rgb_frame = cv2.cvtColor(frame, cv2.COLOR_BGR2RGB)\n",
    "\n",
    "    # find all face locations\n",
    "    face_locations = face_recognition.face_locations(rgb_frame)\n",
    "\n",
    "    # initiate flags\n",
    "    eye_flag = mouth_flag = False\n",
    "\n",
    "    for face_location in face_locations:\n",
    "        # extract facial landmarks\n",
    "        landmarks = face_recognition.face_landmarks(rgb_frame, [face_location])[0]\n",
    "        # extract eye and mouth coordinates\n",
    "        left_eye = np.array(landmarks['left_eye'])\n",
    "        right_eye = np.array(landmarks['right_eye'])\n",
    "        mouth = np.array(landmarks['bottom_lip'])\n",
    "\n",
    "        # calculate ear and mar\n",
    "        left_ear = eye_aspect_ratio(left_eye)\n",
    "        right_ear = eye_aspect_ratio(right_eye)\n",
    "        ear = (left_ear+right_ear) / 2.0\n",
    "        mar = mouth_aspect_ratio(mouth)\n",
    "\n",
    "        # check if eyes are closed\n",
    "        if ear < EYE_AR_THRESH:\n",
    "            eye_flag = True\n",
    "\n",
    "        # check if yawning\n",
    "        if mar > MOUTH_AR_THRESH:\n",
    "            mouth_flag = True\n",
    "\n",
    "    return eye_flag, mouth_flag"
   ]
  },
  {
   "cell_type": "code",
   "execution_count": 11,
   "id": "b51df9de-0aa6-4147-98cb-857b7a4903a7",
   "metadata": {},
   "outputs": [
    {
     "data": {
      "text/plain": [
       "(True, False)"
      ]
     },
     "execution_count": 11,
     "metadata": {},
     "output_type": "execute_result"
    }
   ],
   "source": [
    "img = cv2.imread(image_path)\n",
    "process_image(img)"
   ]
  },
  {
   "cell_type": "markdown",
   "id": "716e637c-52a0-48b8-9dbf-353a0f596d70",
   "metadata": {},
   "source": [
    "## Real Time Drowsiness Detection"
   ]
  },
  {
   "cell_type": "code",
   "execution_count": 12,
   "id": "49fb7db5-f008-49f8-b120-6d59234575b2",
   "metadata": {},
   "outputs": [],
   "source": [
    "video_path = \"test.mp4\"\n",
    "# video_cap = cv2.VideoCapture(0) # for getting frames from the webcam\n",
    "video_cap = cv2.VideoCapture(video_path)\n",
    "count = score = 0\n",
    "\n",
    "while True:\n",
    "    success, image = video_cap.read()\n",
    "    if not success:\n",
    "        break\n",
    "\n",
    "    image = cv2.resize(image, (800, 500))\n",
    "\n",
    "    count += 1\n",
    "    # process every nth frame\n",
    "    n = 5\n",
    "    if count % n == 0:\n",
    "        eye_flag, mouth_flag = process_image(image)\n",
    "        # if any flag is true, increment the score\n",
    "        if eye_flag or mouth_flag:\n",
    "            score += 1\n",
    "        else:\n",
    "            score -= 1\n",
    "            if score < 0:\n",
    "                score = 0\n",
    "\n",
    "    # write the score values at bottom left of the image\n",
    "    font = cv2.FONT_HERSHEY_SIMPLEX\n",
    "    text_x = 10\n",
    "    text_y = image.shape[0] - 10\n",
    "    text = f\"Score: {score}\"\n",
    "    cv2.putText(image, text, (text_x, text_y), font, 1, (0, 255, 0), 2, cv2.LINE_AA)\n",
    "\n",
    "    if score >= 5:\n",
    "        text_x = image.shape[1] - 130\n",
    "        text_y = 40\n",
    "        text = \"Drowsy\"\n",
    "        cv2.putText(image, text, (text_x, text_y), font, 1, (0, 0, 255), 2, cv2.LINE_AA)\n",
    "\n",
    "    cv2.imshow('drowsiness detection', image)\n",
    "\n",
    "    # exit if any key is pressed\n",
    "    if cv2.waitKey(1) & 0xFF != 255:\n",
    "        break\n",
    "\n",
    "video_cap.release()\n",
    "cv2.destroyAllWindows()"
   ]
  },
  {
   "cell_type": "code",
   "execution_count": null,
   "id": "bb256a52-5fe9-4cf7-b3a8-8e4407776043",
   "metadata": {},
   "outputs": [],
   "source": []
  }
 ],
 "metadata": {
  "kernelspec": {
   "display_name": "Python 3 (ipykernel)",
   "language": "python",
   "name": "python3"
  },
  "language_info": {
   "codemirror_mode": {
    "name": "ipython",
    "version": 3
   },
   "file_extension": ".py",
   "mimetype": "text/x-python",
   "name": "python",
   "nbconvert_exporter": "python",
   "pygments_lexer": "ipython3",
   "version": "3.12.5"
  }
 },
 "nbformat": 4,
 "nbformat_minor": 5
}
